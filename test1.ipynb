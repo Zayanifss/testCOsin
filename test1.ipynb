{
 "cells": [
  {
   "cell_type": "code",
   "execution_count": 1,
   "id": "473f0747-a283-46ab-93d9-3bb36d3ae14f",
   "metadata": {},
   "outputs": [
    {
     "name": "stdout",
     "output_type": "stream",
     "text": [
      "    title                                        description\n",
      "0  Film A  Un film d'action avec des explosions et des co...\n",
      "1  Film B  Une comédie romantique pleine de moments drôle...\n",
      "2  Film C  Un thriller psychologique avec des rebondissem...\n",
      "3  Film D  Un film d'aventure avec des voyages et des déc...\n"
     ]
    },
    {
     "name": "stderr",
     "output_type": "stream",
     "text": [
      "[nltk_data] Downloading package stopwords to\n",
      "[nltk_data]     C:\\Users\\Zayani\\AppData\\Roaming\\nltk_data...\n",
      "[nltk_data]   Package stopwords is already up-to-date!\n"
     ]
    }
   ],
   "source": [
    "from sklearn.feature_extraction.text import TfidfVectorizer\n",
    "from sklearn.metrics.pairwise import cosine_similarity\n",
    "\n",
    "from nltk.corpus import stopwords\n",
    "import pandas as pd\n",
    "\n",
    "# Télécharger les stop words français\n",
    "import nltk\n",
    "nltk.download('stopwords')\n",
    "french_stop_words = stopwords.words('french')\n",
    "\n",
    "# Exemple de données\n",
    "data = {\n",
    "    'title': ['Film A', 'Film B', 'Film C', 'Film D'],\n",
    "    'description': [\n",
    "        'Un film d\\'action avec des explosions et des courses-poursuites.',\n",
    "        'Une comédie romantique pleine de moments drôles et touchants.',\n",
    "        'Un thriller psychologique avec des rebondissements inattendus.',\n",
    "        'Un film d\\'aventure avec des voyages et des découvertes.'\n",
    "    ]\n",
    "}\n",
    "# Convertir en DataFrame\n",
    "df = pd.DataFrame(data)\n",
    "print(df)"
   ]
  },
  {
   "cell_type": "code",
   "execution_count": 2,
   "id": "3650f752-e5fd-4158-be91-cfa8e2b3f4e1",
   "metadata": {},
   "outputs": [
    {
     "name": "stdout",
     "output_type": "stream",
     "text": [
      "(4, 18)\n",
      "[[0.46516193 0.         0.         0.46516193 0.         0.\n",
      "  0.46516193 0.36673901 0.         0.         0.         0.46516193\n",
      "  0.         0.         0.         0.         0.         0.        ]\n",
      " [0.         0.         0.40824829 0.         0.40824829 0.\n",
      "  0.         0.         0.         0.40824829 0.40824829 0.\n",
      "  0.         0.         0.40824829 0.         0.40824829 0.        ]\n",
      " [0.         0.         0.         0.         0.         0.\n",
      "  0.         0.         0.5        0.         0.         0.\n",
      "  0.5        0.5        0.         0.5        0.         0.        ]\n",
      " [0.         0.52547275 0.         0.         0.         0.52547275\n",
      "  0.         0.41428875 0.         0.         0.         0.\n",
      "  0.         0.         0.         0.         0.         0.52547275]]\n"
     ]
    }
   ],
   "source": [
    "# Vectorisation avec TF-IDF et stop words français\n",
    "tfidf = TfidfVectorizer(stop_words=french_stop_words)\n",
    "tfidf_matrix = tfidf.fit_transform(df['description'])\n",
    "\n",
    "# Afficher la matrice TF-IDF\n",
    "print(tfidf_matrix.shape)  # (nombre de films, nombre de mots uniques)\n",
    "print(tfidf_matrix.toarray())  # Afficher la matrice dense"
   ]
  },
  {
   "cell_type": "code",
   "execution_count": 23,
   "id": "a885754d-cd17-485f-9c95-46b7d13ad939",
   "metadata": {},
   "outputs": [
    {
     "name": "stdout",
     "output_type": "stream",
     "text": [
      "[[1.         0.         0.         0.15193585]\n",
      " [0.         1.         0.         0.        ]\n",
      " [0.         0.         1.         0.        ]\n",
      " [0.15193585 0.         0.         1.        ]]\n"
     ]
    }
   ],
   "source": [
    "# Calcul de la similarité cosinus entre les films\n",
    "cosine_sim = cosine_similarity(tfidf_matrix, tfidf_matrix)\n",
    "\n",
    "# Afficher la matrice de similarité\n",
    "print(cosine_sim)\n"
   ]
  },
  {
   "cell_type": "code",
   "execution_count": 25,
   "id": "38c2e61b-17a8-4433-b025-b82fe196acec",
   "metadata": {},
   "outputs": [],
   "source": [
    "def recommend_movies(title, cosine_sim, df):\n",
    "    # Trouver l'index du film dans le DataFrame\n",
    "    idx = df[df['title'] == title].index[0]\n",
    "    \n",
    "    # Obtenir les scores de similarité pour ce film\n",
    "    sim_scores = list(enumerate(cosine_sim[idx]))\n",
    "    \n",
    "    # Trier les films par score de similarité\n",
    "    sim_scores = sorted(sim_scores, key=lambda x: x[1], reverse=True)\n",
    "    \n",
    "    # Exclure le film lui-même et prendre les 3 premiers\n",
    "    sim_scores = sim_scores[1:4]\n",
    "    \n",
    "    # Obtenir les indices des films recommandés\n",
    "    movie_indices = [i[0] for i in sim_scores]\n",
    "    \n",
    "    # Retourner les titres des films recommandés\n",
    "    return df['title'].iloc[movie_indices]\n",
    "\n"
   ]
  },
  {
   "cell_type": "code",
   "execution_count": 31,
   "id": "421756ff-8d81-450d-8eb5-5863d87241fa",
   "metadata": {},
   "outputs": [
    {
     "name": "stdout",
     "output_type": "stream",
     "text": [
      "3    Film D\n",
      "1    Film B\n",
      "2    Film C\n",
      "Name: title, dtype: object\n"
     ]
    }
   ],
   "source": [
    "# Exemple : Recommander des films similaires à \"Film A\"\n",
    "recommendations = recommend_movies('Film A',cosine_sim, df)\n",
    "print(recommendations)"
   ]
  },
  {
   "cell_type": "code",
   "execution_count": null,
   "id": "9c14c246-4b6e-43d4-8db7-2087cb86eeb8",
   "metadata": {},
   "outputs": [],
   "source": []
  }
 ],
 "metadata": {
  "kernelspec": {
   "display_name": "Python (3.10 - ontologie_env)",
   "language": "python",
   "name": "ontologie_env_310"
  },
  "language_info": {
   "codemirror_mode": {
    "name": "ipython",
    "version": 3
   },
   "file_extension": ".py",
   "mimetype": "text/x-python",
   "name": "python",
   "nbconvert_exporter": "python",
   "pygments_lexer": "ipython3",
   "version": "3.12.7"
  }
 },
 "nbformat": 4,
 "nbformat_minor": 5
}
