{
 "cells": [
  {
   "cell_type": "code",
   "execution_count": 18,
   "id": "80c827ad-98a9-4bc5-8a72-9f8a6de9d27e",
   "metadata": {},
   "outputs": [
    {
     "name": "stdout",
     "output_type": "stream",
     "text": [
      "Requirement already satisfied: pandas in c:\\users\\zayani\\anaconda3\\envs\\ontologie_env\\lib\\site-packages (2.2.3)\n",
      "Requirement already satisfied: numpy in c:\\users\\zayani\\anaconda3\\envs\\ontologie_env\\lib\\site-packages (2.2.2)\n",
      "Requirement already satisfied: scikit-learn in c:\\users\\zayani\\anaconda3\\envs\\ontologie_env\\lib\\site-packages (1.6.1)\n",
      "Requirement already satisfied: nltk in c:\\users\\zayani\\anaconda3\\envs\\ontologie_env\\lib\\site-packages (3.9.1)\n",
      "Requirement already satisfied: fastapi in c:\\users\\zayani\\anaconda3\\envs\\ontologie_env\\lib\\site-packages (0.115.8)\n",
      "Requirement already satisfied: uvicorn in c:\\users\\zayani\\anaconda3\\envs\\ontologie_env\\lib\\site-packages (0.34.0)\n",
      "Requirement already satisfied: python-dateutil>=2.8.2 in c:\\users\\zayani\\anaconda3\\envs\\ontologie_env\\lib\\site-packages (from pandas) (2.9.0.post0)\n",
      "Requirement already satisfied: pytz>=2020.1 in c:\\users\\zayani\\anaconda3\\envs\\ontologie_env\\lib\\site-packages (from pandas) (2025.1)\n",
      "Requirement already satisfied: tzdata>=2022.7 in c:\\users\\zayani\\anaconda3\\envs\\ontologie_env\\lib\\site-packages (from pandas) (2025.1)\n",
      "Requirement already satisfied: scipy>=1.6.0 in c:\\users\\zayani\\anaconda3\\envs\\ontologie_env\\lib\\site-packages (from scikit-learn) (1.15.1)\n",
      "Requirement already satisfied: joblib>=1.2.0 in c:\\users\\zayani\\anaconda3\\envs\\ontologie_env\\lib\\site-packages (from scikit-learn) (1.4.2)\n",
      "Requirement already satisfied: threadpoolctl>=3.1.0 in c:\\users\\zayani\\anaconda3\\envs\\ontologie_env\\lib\\site-packages (from scikit-learn) (3.5.0)\n",
      "Requirement already satisfied: click in c:\\users\\zayani\\anaconda3\\envs\\ontologie_env\\lib\\site-packages (from nltk) (8.1.8)\n",
      "Requirement already satisfied: regex>=2021.8.3 in c:\\users\\zayani\\anaconda3\\envs\\ontologie_env\\lib\\site-packages (from nltk) (2024.11.6)\n",
      "Requirement already satisfied: tqdm in c:\\users\\zayani\\anaconda3\\envs\\ontologie_env\\lib\\site-packages (from nltk) (4.67.1)\n",
      "Requirement already satisfied: starlette<0.46.0,>=0.40.0 in c:\\users\\zayani\\anaconda3\\envs\\ontologie_env\\lib\\site-packages (from fastapi) (0.45.3)\n",
      "Requirement already satisfied: pydantic!=1.8,!=1.8.1,!=2.0.0,!=2.0.1,!=2.1.0,<3.0.0,>=1.7.4 in c:\\users\\zayani\\anaconda3\\envs\\ontologie_env\\lib\\site-packages (from fastapi) (2.10.6)\n",
      "Requirement already satisfied: typing-extensions>=4.8.0 in c:\\users\\zayani\\anaconda3\\envs\\ontologie_env\\lib\\site-packages (from fastapi) (4.12.2)\n",
      "Requirement already satisfied: h11>=0.8 in c:\\users\\zayani\\anaconda3\\envs\\ontologie_env\\lib\\site-packages (from uvicorn) (0.14.0)\n",
      "Requirement already satisfied: colorama in c:\\users\\zayani\\anaconda3\\envs\\ontologie_env\\lib\\site-packages (from click->nltk) (0.4.6)\n",
      "Requirement already satisfied: annotated-types>=0.6.0 in c:\\users\\zayani\\anaconda3\\envs\\ontologie_env\\lib\\site-packages (from pydantic!=1.8,!=1.8.1,!=2.0.0,!=2.0.1,!=2.1.0,<3.0.0,>=1.7.4->fastapi) (0.7.0)\n",
      "Requirement already satisfied: pydantic-core==2.27.2 in c:\\users\\zayani\\anaconda3\\envs\\ontologie_env\\lib\\site-packages (from pydantic!=1.8,!=1.8.1,!=2.0.0,!=2.0.1,!=2.1.0,<3.0.0,>=1.7.4->fastapi) (2.27.2)\n",
      "Requirement already satisfied: six>=1.5 in c:\\users\\zayani\\anaconda3\\envs\\ontologie_env\\lib\\site-packages (from python-dateutil>=2.8.2->pandas) (1.17.0)\n",
      "Requirement already satisfied: anyio<5,>=3.6.2 in c:\\users\\zayani\\anaconda3\\envs\\ontologie_env\\lib\\site-packages (from starlette<0.46.0,>=0.40.0->fastapi) (4.8.0)\n",
      "Requirement already satisfied: idna>=2.8 in c:\\users\\zayani\\anaconda3\\envs\\ontologie_env\\lib\\site-packages (from anyio<5,>=3.6.2->starlette<0.46.0,>=0.40.0->fastapi) (3.10)\n",
      "Requirement already satisfied: sniffio>=1.1 in c:\\users\\zayani\\anaconda3\\envs\\ontologie_env\\lib\\site-packages (from anyio<5,>=3.6.2->starlette<0.46.0,>=0.40.0->fastapi) (1.3.1)\n",
      "Note: you may need to restart the kernel to use updated packages.\n"
     ]
    }
   ],
   "source": [
    "pip install pandas numpy scikit-learn nltk fastapi uvicorn"
   ]
  },
  {
   "cell_type": "code",
   "execution_count": 1,
   "id": "e72fb808-7d94-40ca-9968-fa56a1b1095f",
   "metadata": {},
   "outputs": [
    {
     "name": "stderr",
     "output_type": "stream",
     "text": [
      "[nltk_data] Downloading package stopwords to\n",
      "[nltk_data]     C:\\Users\\Zayani\\AppData\\Roaming\\nltk_data...\n",
      "[nltk_data]   Package stopwords is already up-to-date!\n"
     ]
    }
   ],
   "source": [
    "from sklearn.feature_extraction.text import TfidfVectorizer\n",
    "from sklearn.metrics.pairwise import cosine_similarity\n",
    "\n",
    "from nltk.corpus import stopwords\n",
    "import pandas as pd\n",
    "\n",
    "# Télécharger les stop words français\n",
    "import nltk\n",
    "nltk.download('stopwords')\n",
    "french_stop_words = stopwords.words('french')\n",
    "\n",
    "# Exemple de données\n",
    "data = {\n",
    "    'title': ['Film A', 'Film B', 'Film C', 'Film D'],\n",
    "    'description': [\n",
    "        'Un film d\\'action avec des explosions et des courses-poursuites.',\n",
    "        'Une comédie romantique pleine de moments drôles et touchants.',\n",
    "        'Un thriller psychologique avec des rebondissements inattendus.',\n",
    "        'Un film d\\'aventure avec des voyages et des découvertes.'\n",
    "    ]\n",
    "}\n"
   ]
  },
  {
   "cell_type": "code",
   "execution_count": 3,
   "id": "dacf4d5e-d4f3-4f92-9720-49d980d8152a",
   "metadata": {},
   "outputs": [],
   "source": [
    "# Convertir en DataFrame\n",
    "df = pd.DataFrame(data)\n",
    "# **Créer la matrice TF-IDF et la similarité cosinus**\n",
    "tfidf = TfidfVectorizer(stop_words=french_stop_words)\n",
    "tfidf_matrix = tfidf.fit_transform(df['description'])\n",
    "cosine_sim = cosine_similarity(tfidf_matrix, tfidf_matrix)\n",
    "\n",
    "# 4️⃣ **Définir la fonction de recommandation**\n",
    "def recommend_movies(title: str):\n",
    "    try:\n",
    "        if title not in df['title'].values:\n",
    "            idx = np.random.randint(0, len(df))  # Choisir un film au hasard\n",
    "        else:\n",
    "            idx = df[df['title'] == title].index[0]\n",
    "\n",
    "        sim_scores = list(enumerate(cosine_sim[idx]))\n",
    "        sim_scores = sorted(sim_scores, key=lambda x: x[1], reverse=True)[1:4]\n",
    "\n",
    "        movie_indices = [i[0] for i in sim_scores]\n",
    "        return df['title'].iloc[movie_indices].tolist()\n",
    "\n",
    "    except Exception:\n",
    "        return df['title'].sample(3).tolist()  # Films aléatoires en cas d'erreur"
   ]
  },
  {
   "cell_type": "code",
   "execution_count": null,
   "id": "1d2697b8-e69f-43b3-a665-358224e84782",
   "metadata": {},
   "outputs": [
    {
     "name": "stderr",
     "output_type": "stream",
     "text": [
      "INFO:     Started server process [30080]\n",
      "INFO:     Waiting for application startup.\n",
      "INFO:     Application startup complete.\n",
      "INFO:     Uvicorn running on http://127.0.0.1:8000 (Press CTRL+C to quit)\n"
     ]
    },
    {
     "name": "stdout",
     "output_type": "stream",
     "text": [
      "INFO:     127.0.0.1:64840 - \"GET /recommend/ HTTP/1.1\" 422 Unprocessable Entity\n",
      "INFO:     127.0.0.1:64840 - \"GET /recommend/ HTTP/1.1\" 422 Unprocessable Entity\n"
     ]
    }
   ],
   "source": [
    "import nest_asyncio\n",
    "import uvicorn\n",
    "from fastapi import FastAPI\n",
    "\n",
    "# Autoriser uvicorn à tourner dans Jupyter Notebook\n",
    "nest_asyncio.apply()\n",
    "\n",
    "app = FastAPI()\n",
    "\n",
    "@app.get(\"/\")\n",
    "def home():\n",
    "    return {\"message\": \"API FastAPI fonctionne dans Jupyter Notebook !\"}\n",
    "\n",
    "# **Définir l'endpoint API**\n",
    "@app.get(\"/recommend/\")\n",
    "def get_recommendations(title: str):\n",
    "    recommendations = recommend_movies(title, cosine_sim, df)\n",
    "    return {\"title\": title, \"recommendations\": recommendations}\n",
    "\n",
    "# Lancer FastAPI directement dans Jupyter\n",
    "uvicorn.run(app, host=\"127.0.0.1\", port=8000)\n"
   ]
  },
  {
   "cell_type": "code",
   "execution_count": null,
   "id": "a588181b-a0fc-4c2c-9776-343ed2baea6c",
   "metadata": {},
   "outputs": [],
   "source": []
  }
 ],
 "metadata": {
  "kernelspec": {
   "display_name": "Python (ontologie_env)",
   "language": "python",
   "name": "ontologie_env"
  },
  "language_info": {
   "codemirror_mode": {
    "name": "ipython",
    "version": 3
   },
   "file_extension": ".py",
   "mimetype": "text/x-python",
   "name": "python",
   "nbconvert_exporter": "python",
   "pygments_lexer": "ipython3",
   "version": "3.12.7"
  }
 },
 "nbformat": 4,
 "nbformat_minor": 5
}
